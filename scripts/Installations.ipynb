{
 "cells": [
  {
   "cell_type": "code",
   "execution_count": 1,
   "id": "9fa5aabf",
   "metadata": {},
   "outputs": [
    {
     "name": "stdout",
     "output_type": "stream",
     "text": [
      "Requirement already satisfied: folium in /Users/juan.angarita/opt/anaconda3/lib/python3.9/site-packages (0.14.0)\r\n",
      "Requirement already satisfied: requests in /Users/juan.angarita/opt/anaconda3/lib/python3.9/site-packages (from folium) (2.28.1)\r\n",
      "Requirement already satisfied: jinja2>=2.9 in /Users/juan.angarita/opt/anaconda3/lib/python3.9/site-packages (from folium) (2.11.3)\r\n",
      "Requirement already satisfied: branca>=0.6.0 in /Users/juan.angarita/opt/anaconda3/lib/python3.9/site-packages (from folium) (0.6.0)\r\n",
      "Requirement already satisfied: numpy in /Users/juan.angarita/opt/anaconda3/lib/python3.9/site-packages (from folium) (1.21.5)\r\n",
      "Requirement already satisfied: MarkupSafe>=0.23 in /Users/juan.angarita/opt/anaconda3/lib/python3.9/site-packages (from jinja2>=2.9->folium) (2.0.1)\r\n",
      "Requirement already satisfied: urllib3<1.27,>=1.21.1 in /Users/juan.angarita/opt/anaconda3/lib/python3.9/site-packages (from requests->folium) (1.26.11)\r\n",
      "Requirement already satisfied: charset-normalizer<3,>=2 in /Users/juan.angarita/opt/anaconda3/lib/python3.9/site-packages (from requests->folium) (2.0.4)\r\n",
      "Requirement already satisfied: idna<4,>=2.5 in /Users/juan.angarita/opt/anaconda3/lib/python3.9/site-packages (from requests->folium) (3.3)\r\n",
      "Requirement already satisfied: certifi>=2017.4.17 in /Users/juan.angarita/opt/anaconda3/lib/python3.9/site-packages (from requests->folium) (2022.9.24)\r\n"
     ]
    }
   ],
   "source": [
    "!pip install folium"
   ]
  },
  {
   "cell_type": "code",
   "execution_count": 3,
   "id": "9eab313b",
   "metadata": {},
   "outputs": [
    {
     "name": "stdout",
     "output_type": "stream",
     "text": [
      "Requirement already satisfied: folium in /Users/juan.angarita/opt/anaconda3/lib/python3.9/site-packages (0.14.0)\r\n",
      "Requirement already satisfied: branca>=0.6.0 in /Users/juan.angarita/opt/anaconda3/lib/python3.9/site-packages (from folium) (0.6.0)\r\n",
      "Requirement already satisfied: numpy in /Users/juan.angarita/opt/anaconda3/lib/python3.9/site-packages (from folium) (1.21.5)\r\n",
      "Requirement already satisfied: requests in /Users/juan.angarita/opt/anaconda3/lib/python3.9/site-packages (from folium) (2.28.1)\r\n",
      "Requirement already satisfied: jinja2>=2.9 in /Users/juan.angarita/opt/anaconda3/lib/python3.9/site-packages (from folium) (2.11.3)\r\n",
      "Requirement already satisfied: MarkupSafe>=0.23 in /Users/juan.angarita/opt/anaconda3/lib/python3.9/site-packages (from jinja2>=2.9->folium) (2.0.1)\r\n",
      "Requirement already satisfied: certifi>=2017.4.17 in /Users/juan.angarita/opt/anaconda3/lib/python3.9/site-packages (from requests->folium) (2022.9.24)\r\n",
      "Requirement already satisfied: charset-normalizer<3,>=2 in /Users/juan.angarita/opt/anaconda3/lib/python3.9/site-packages (from requests->folium) (2.0.4)\r\n",
      "Requirement already satisfied: idna<4,>=2.5 in /Users/juan.angarita/opt/anaconda3/lib/python3.9/site-packages (from requests->folium) (3.3)\r\n",
      "Requirement already satisfied: urllib3<1.27,>=1.21.1 in /Users/juan.angarita/opt/anaconda3/lib/python3.9/site-packages (from requests->folium) (1.26.11)\r\n"
     ]
    }
   ],
   "source": [
    "!pip3 install folium"
   ]
  },
  {
   "cell_type": "code",
   "execution_count": 4,
   "id": "cb06d0d1",
   "metadata": {},
   "outputs": [
    {
     "name": "stdout",
     "output_type": "stream",
     "text": [
      "Collecting package metadata (current_repodata.json): done\n",
      "Solving environment: done\n",
      "\n",
      "\n",
      "==> WARNING: A newer version of conda exists. <==\n",
      "  current version: 22.9.0\n",
      "  latest version: 23.7.2\n",
      "\n",
      "Please update conda by running\n",
      "\n",
      "    $ conda update -n base -c defaults conda\n",
      "\n",
      "\n",
      "\n",
      "## Package Plan ##\n",
      "\n",
      "  environment location: /Users/juan.angarita/opt/anaconda3/envs/UCC_collabortions\n",
      "\n",
      "  added / updated specs:\n",
      "    - folium\n",
      "\n",
      "\n",
      "The following packages will be downloaded:\n",
      "\n",
      "    package                    |            build\n",
      "    ---------------------------|-----------------\n",
      "    branca-0.6.0               |  py310hca03da5_0          45 KB\n",
      "    ca-certificates-2023.05.30 |       hca03da5_0         121 KB\n",
      "    certifi-2023.7.22          |  py310hca03da5_0         154 KB\n",
      "    folium-0.14.0              |  py310hca03da5_0         118 KB\n",
      "    openssl-1.1.1v             |       h1a28f6b_0         2.6 MB\n",
      "    ------------------------------------------------------------\n",
      "                                           Total:         3.1 MB\n",
      "\n",
      "The following NEW packages will be INSTALLED:\n",
      "\n",
      "  branca             pkgs/main/osx-arm64::branca-0.6.0-py310hca03da5_0 None\n",
      "  folium             pkgs/main/osx-arm64::folium-0.14.0-py310hca03da5_0 None\n",
      "\n",
      "The following packages will be UPDATED:\n",
      "\n",
      "  ca-certificates                     2023.01.10-hca03da5_0 --> 2023.05.30-hca03da5_0 None\n",
      "  certifi                         2022.12.7-py310hca03da5_0 --> 2023.7.22-py310hca03da5_0 None\n",
      "  openssl                                 1.1.1t-h1a28f6b_0 --> 1.1.1v-h1a28f6b_0 None\n",
      "\n",
      "\n",
      "\n",
      "Downloading and Extracting Packages\n",
      "folium-0.14.0        | 118 KB    | ##################################### | 100% \n",
      "branca-0.6.0         | 45 KB     | ##################################### | 100% \n",
      "openssl-1.1.1v       | 2.6 MB    | ##################################### | 100% \n",
      "ca-certificates-2023 | 121 KB    | ##################################### | 100% \n",
      "certifi-2023.7.22    | 154 KB    | ##################################### | 100% \n",
      "Preparing transaction: done\n",
      "Verifying transaction: done\n",
      "Executing transaction: done\n",
      "Retrieving notices: ...working... done\n",
      "\n",
      "Note: you may need to restart the kernel to use updated packages.\n"
     ]
    }
   ],
   "source": [
    "conda install folium"
   ]
  },
  {
   "cell_type": "code",
   "execution_count": null,
   "id": "b4fb9d49",
   "metadata": {},
   "outputs": [],
   "source": []
  }
 ],
 "metadata": {
  "kernelspec": {
   "display_name": "Python 3 (ipykernel)",
   "language": "python",
   "name": "python3"
  },
  "language_info": {
   "codemirror_mode": {
    "name": "ipython",
    "version": 3
   },
   "file_extension": ".py",
   "mimetype": "text/x-python",
   "name": "python",
   "nbconvert_exporter": "python",
   "pygments_lexer": "ipython3",
   "version": "3.10.9"
  }
 },
 "nbformat": 4,
 "nbformat_minor": 5
}
